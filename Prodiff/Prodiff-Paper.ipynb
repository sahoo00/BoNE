{
 "cells": [
  {
   "cell_type": "code",
   "execution_count": 1,
   "metadata": {},
   "outputs": [
    {
     "data": {
      "text/plain": [
       "<module 'bone' from '/booleanfs2/sahoo/BoNE/bone.py'>"
      ]
     },
     "execution_count": 1,
     "metadata": {},
     "output_type": "execute_result"
    }
   ],
   "source": [
    "# IMPORT STATEMENTS\n",
    "import cv2\n",
    "import re\n",
    "import numpy as np\n",
    "from matplotlib import pyplot as plt\n",
    "from mpl_toolkits.axes_grid1 import make_axes_locatable, axes_size\n",
    "import matplotlib.patches as patches\n",
    "import matplotlib.colors as colors\n",
    "import PIL\n",
    "import math\n",
    "get_ipython().magic('matplotlib inline')\n",
    "import pandas as pd\n",
    "import seaborn as sns\n",
    "import json\n",
    "from scipy.stats import fisher_exact, ttest_ind\n",
    "from collections import Counter\n",
    "from pprint import pprint\n",
    "import os\n",
    "import pickle\n",
    "import sys\n",
    "sys.path.append(\"/booleanfs2/sahoo/Hegemon/\")\n",
    "sys.path = [\"/booleanfs2/sahoo/BoNE/\"] + sys.path\n",
    "import StepMiner as smn\n",
    "import HegemonUtil as hu\n",
    "acolor = [\"#00CC00\", \"#D8A03D\",\"#EC008C\",\n",
    "          'cyan', \"#B741DC\", \"#808285\",\n",
    "          'blue', 'black', 'green', 'red',\n",
    "          'orange', 'brown', 'pink', 'purple']\n",
    "\n",
    "import matplotlib\n",
    "matplotlib.rcParams['pdf.fonttype'] = 42\n",
    "matplotlib.rcParams['ps.fonttype'] = 42\n",
    "\n",
    "try:\n",
    "    reload  # Python 2.7\n",
    "except NameError:\n",
    "    try:\n",
    "        from importlib import reload  # Python 3.4+\n",
    "    except ImportError:\n",
    "        from imp import reload  # Python 3.0 - 3.3\n",
    "\n",
    "import bone\n",
    "reload(bone)"
   ]
  },
  {
   "cell_type": "code",
   "execution_count": 2,
   "metadata": {},
   "outputs": [],
   "source": [
    "import bone\n",
    "reload(bone)\n",
    "\n",
    "class CRCDiffAnalysis(bone.IBDAnalysis):\n",
    "\n",
    "    def __init__(self):\n",
    "        bone.IBDAnalysis.__init__(self)\n",
    "\n",
    "    def getColonGEOPurged(self, tn=1, ta=0, tb=0):\n",
    "        self.prepareData(\"CRC145\")\n",
    "        atype = self.h.getSurvName('c Histology')\n",
    "        atypes = ['N', 'A', 'C']\n",
    "        ahash = {'Normal':0, 'Adenoma':1, 'Carcinoma':2}\n",
    "        if (tn == 2):\n",
    "            atypes = ['N', 'C']\n",
    "            ahash = {'Normal':0, 'Carcinoma':1}\n",
    "        self.initData(atype, atypes, ahash)\n",
    "        return\n",
    "    \n",
    "    \n",
    "    def getQu2016(self, tn=1, ta=0, tb=0):\n",
    "        self.prepareData(\"PLP50\")\n",
    "        atype = self.h.getSurvName(\"c tissue type\")\n",
    "        atypes = ['NS', 'NC', 'A', 'C', 'M']\n",
    "        ahash = {'Metastasis':4, 'Carcinoma':3,'Normal crypt epithelium':1,\n",
    "                'Adenoma':2,'Normal surface epithelium':0}\n",
    "        if (tn == 2):\n",
    "            atypes = ['NA', 'C']\n",
    "            ahash = {'Metastasis':1,'Carcinoma':1,'Normal crypt epithelium':0,\n",
    "                    'Adenoma':0,'Normal surface epithelium':0}\n",
    "        if (tn == 3):\n",
    "            atypes = ['N', 'C']\n",
    "            ahash = {'Carcinoma':1,'Normal crypt epithelium':0}\n",
    "        self.initData(atype, atypes, ahash)\n",
    "        return\n",
    "\n",
    "    def getTCGACRC(self, tn=1):\n",
    "        self.prepareData(\"CRC80\")\n",
    "        atype = self.h.getSurvName('c Histology')\n",
    "        atypes = ['N', 'PT', 'RT', 'M']\n",
    "        ahash = {'Primary Tumor':1, 'Solid Tissue Normal':0, 'Metastatic':3,\n",
    "                'Recurrent Tumor':2}\n",
    "        if (tn == 2):\n",
    "            atypes = ['N', 'T']\n",
    "            ahash = {'Primary Tumor':1, 'Solid Tissue Normal':0}\n",
    "        self.initData(atype, atypes, ahash)\n",
    "        return\n",
    "\n",
    "\n",
    "\n",
    "    def getSkrzypczak2010(self, tn=1):\n",
    "        self.prepareData(\"CRC137.2\")\n",
    "        atype = self.h.getSurvName('c tissue')\n",
    "        atypes = ['N', 'A', 'C', 'AC']\n",
    "        ahash = {'adenoma':1, 'adenocarcinoma':3, 'normal colon':0, 'colon tumor':2}\n",
    "        if (tn == 2):\n",
    "            atypes = ['N', 'T']\n",
    "            ahash = {'normal colon':0, 'adenocarcinoma':1}\n",
    "        self.initData(atype, atypes, ahash)\n",
    "        return\n",
    "    \n",
    "    def getParedes2020CRC(self, tn=1, tb=0):\n",
    "        self.prepareData(\"CRC148\")\n",
    "        atype = self.h.getSurvName('c individual')\n",
    "        atype = [re.sub(\"_.*\", \"\", str(k)) for k in atype]\n",
    "        ahash = {'Caucasian':0, 'AfricanAmerican':1}\n",
    "        tval = [ahash[i] if i in ahash else None for i in atype]\n",
    "        atype = self.h.getSurvName('c tissue')\n",
    "        atype = [re.sub(\" .*\", \"\", str(k)) for k in atype]\n",
    "        atypes = ['N', 'T']\n",
    "        ahash = {'Tumor':1, 'Adjacent':0}\n",
    "        aval = [ahash[i] if i in ahash else None for i in atype]\n",
    "        if (tn == 2):\n",
    "            atype = [atype[i] if tval[i] == tb\n",
    "                    else None for i in range(len(atype))]\n",
    "        if (tn == 3):\n",
    "            atypes = ['C', 'AA']\n",
    "            atype = tval\n",
    "            ahash = {0:0, 1:1}\n",
    "            atype = [atype[i] if aval[i] == tb\n",
    "                    else None for i in range(len(atype))]\n",
    "        self.initData(atype, atypes, ahash)\n",
    "\n",
    "    def getSole2014(self, tn=1):\n",
    "        self.prepareData(\"CRC149\")\n",
    "        atype = self.h.getSurvName('c sample type')\n",
    "        atypes = ['N', 'T', 'M']\n",
    "        ahash = {'Normal':0, 'Tumor':1, 'Mucosa':2}\n",
    "        if (tn == 2):\n",
    "            atypes = ['N', 'T']\n",
    "            ahash = {'Normal':0, 'Tumor':1}\n",
    "        self.initData(atype, atypes, ahash)\n",
    "        return\n",
    "    \n",
    "\n",
    "    def getChen2016(self, tn=1, tb=0):\n",
    "        self.prepareData(\"CRC154\")\n",
    "        atype = self.h.getSurvName('c src1')\n",
    "        atypes = ['N', 'I', 'II', 'III', 'IV']\n",
    "        ahash = {'CRC_FFPE_stage III':3, 'CRC_FFPE_stage II':2,\n",
    "                 'CRC_FFPE_stage IV':4, 'CRC_FFPE_stage I':1,\n",
    "                 'CRC_FFPE_healthy control':0}\n",
    "        if (tn == 2):\n",
    "            atypes = ['N', 'T']\n",
    "            ahash = {'CRC_FFPE_stage III':1, 'CRC_FFPE_stage II':1,\n",
    "                     'CRC_FFPE_stage IV':1, 'CRC_FFPE_stage I':1,\n",
    "                     'CRC_FFPE_healthy control':0}\n",
    "        self.initData(atype, atypes, ahash)\n",
    "        return\n",
    "\n"
   ]
  },
  {
   "cell_type": "code",
   "execution_count": 3,
   "metadata": {},
   "outputs": [
    {
     "name": "stdout",
     "output_type": "stream",
     "text": [
      "285706 edges Processed\n",
      "[0.44072559214353313, 3614.470274119544, -0.05927440785646687, 0.9407255921435331]86048604860 4860 48604860 4860 4860 4860 48604860 4860 4860 486048604860 4860 48604860 4860 4860 48604860 4860 4860 4860 4860 4860 4860 4860 48604860 4860 4860 4860 48604860 4860 4860 4860 4860 4860 4860 4860 4860 48604860 4860 4860 4860 4860 4860 4860 4860 48604860 48604860 4860 4860 4860 48604860 4860 48604860 4860 4860 4860 48604860 4860 4860 4860 4860 4860 4860 4860 48604860 4860 4860 4860 4860 4860 48604860 4860 4860 48604860 4860 4860 4860 4860 4860 4860 4860 4860 4860 4860 48604860 4860 4860 4860 4860 486048604860 4860 4860 4860 48604860 4860 4860 4860 48604860 486048604860 48604860 4860 4860 4860 4860 4860 4860 4860 4860 4860 4860 4860 4860 4860 4860 4860 48604860\n",
      "4263 Processed\n",
      "Processing edges...\n",
      "492905 edges processed\n"
     ]
    },
    {
     "data": {
      "text/plain": [
       "['PRKAB1']"
      ]
     },
     "execution_count": 3,
     "metadata": {},
     "output_type": "execute_result"
    }
   ],
   "source": [
    "cfile = \"crc-net-1-res.txt\"\n",
    "nodes, edges = bone.BIGraph.readEqGraph(cfile)\n",
    "df = bone.BIGraph.pruneEqGraph(edges)\n",
    "df.to_csv(\"crc-net-1-eq.txt\", sep=\"\\t\", header=False, index=False)\n",
    "thr = hu.getThrData(df[1])\n",
    "print(thr)\n",
    "cls = bone.BIGraph.getClusters(df, 0.7)\n",
    "bone.BIGraph.saveClusters(\"crc-net-1-cls.txt\", cls)\n",
    "cls = bone.BIGraph.readClusters(\"crc-net-1-cls.txt\")\n",
    "cfile = \"crc-net-1.rl\"\n",
    "net = bone.BINetwork(cfile)\n",
    "net.init()\n",
    "cg = bone.BIGraph.getClustersGraph(net, cls)\n",
    "cg.to_csv(\"crc-net-1-eq-g.txt\", sep=\"\\t\", header=False, index=False)\n",
    "edges, clusters, nodep = bone.BIGraph.readClustersGraphFile(\"crc-net-1\")\n",
    "clusters[nodep['PRKAB1']]"
   ]
  },
  {
   "cell_type": "code",
   "execution_count": 4,
   "metadata": {},
   "outputs": [
    {
     "name": "stdout",
     "output_type": "stream",
     "text": [
      "A MGAT4B 21 1 CDX2 False\n",
      "A EPB41L4B 21 1 CDX2 True\n",
      "A KCTD5 186 2 MGAT4B True\n",
      "A MUPCDH 3 2 MGAT4B False\n",
      "A ABCC13 2 2 EPB41L4B False\n",
      "A PSPC1 391 3 KCTD5 False\n",
      "A FUCA1 108 3 MUPCDH False\n",
      "A SCNN1B 37 3 ABCC13 False\n",
      "B YEATS4 1890 True\n",
      "A LAYN 291 1 KCTD5 True\n"
     ]
    }
   ],
   "source": [
    "def clusterNodes(edges, nodes):\n",
    "    from networkx.utils.union_find import UnionFind as UF\n",
    "    x = UF()\n",
    "    for k in nodes:\n",
    "        if k in edges:\n",
    "            if \"5\" in edges[k]:\n",
    "                for l in edges[k][\"5\"]:\n",
    "                    x.union(k, l)\n",
    "    cls = {}\n",
    "    for k in x:\n",
    "        p = x[k]\n",
    "        if (p not in cls):\n",
    "            cls[p] = []\n",
    "        cls[p].append(k)\n",
    "    cls1 = {}\n",
    "    for k in cls:\n",
    "        lh = {}\n",
    "        s1 = set(cls[k])\n",
    "        for l in s1:\n",
    "            lh[l] = 1\n",
    "        s2 = []\n",
    "        for l in s1:\n",
    "            if l not in edges:\n",
    "                break;\n",
    "            if \"5\" not in edges[l]:\n",
    "                break;\n",
    "            lh[l] = len(set(edges[l][\"5\"]).intersection(s1))\n",
    "            if lh[l] > 0:\n",
    "                s2.append(l)\n",
    "        #print([ (k,lh[k]) for k in sorted(s1, key=lambda k: -lh[k])])\n",
    "        cls1[k] = sorted(s1, key=lambda k: -lh[k])\n",
    "    return cls1\n",
    "\n",
    "def searchDeep(edges, start, n = 8, term = \"PRKAB1\", et='2'):\n",
    "    import queue\n",
    "    lQ = queue.Queue()\n",
    "    depth = {}\n",
    "    visited = {}\n",
    "    cls2 = {}\n",
    "    parent = {}\n",
    "    if et not in edges[start]:\n",
    "        return cls2, cls2, parent\n",
    "    nodes = edges[start][et]\n",
    "    #nodes = {k:v for i in edges[start] for k,v in edges[start][i].items()}\n",
    "    cls = clusterNodes(edges, nodes)\n",
    "    for k in cls:\n",
    "        #print(cls[k][0], len(cls[k]), \"PRKAB1\" in cls[k])\n",
    "        cls2[cls[k][0]] = cls[k]\n",
    "        lQ.put(cls[k][0])\n",
    "        depth[cls[k][0]] = 1\n",
    "        parent[cls[k][0]] = start\n",
    "    while (not lQ.empty()):\n",
    "        l = lQ.get()\n",
    "        if l in visited:\n",
    "            continue;\n",
    "        visited[l] = 1\n",
    "        if depth[l] > n:\n",
    "            continue;\n",
    "        if l not in edges:\n",
    "            continue;\n",
    "        if et not in edges[l]:\n",
    "            continue;\n",
    "        ns = edges[l][et]\n",
    "        #ns = {k:v for i in edges[l] for k,v in edges[l][i].items()}\n",
    "        cls = clusterNodes(edges, ns)\n",
    "        for k in cls:\n",
    "            if cls[k][0] not in depth:\n",
    "                #print(cls[k][0], len(cls[k]), depth[l]+1, \"PRKAB1\" in cls[k])\n",
    "                cls2[cls[k][0]] = cls[k]\n",
    "                lQ.put(cls[k][0])\n",
    "                depth[cls[k][0]] = depth[l] + 1\n",
    "                parent[cls[k][0]] = l\n",
    "\n",
    "    cls3 = {}\n",
    "    for k in cls2:\n",
    "        print(\"A\", k, len(cls2[k]), depth[k], parent[k], term in cls2[k])\n",
    "        for l in cls2[k]:\n",
    "            cls3[l] = 1\n",
    "\n",
    "    cls = clusterNodes(edges, cls3)\n",
    "    for k in cls:\n",
    "        print(\"B\", cls[k][0], len(cls[k]), term in cls[k])\n",
    "    \n",
    "    return cls2, cls3, parent\n",
    "\n",
    "cls2, cls3, parent = searchDeep(edges, \"CDX2\", 2, nodep[\"PRKAB1\"])\n",
    "\n",
    "\"GPD1L\" in cls2['KCTD5']\n",
    "\n",
    "cls = clusterNodes(edges, edges['GPD1L']['4'])\n",
    "cls2[cls['IGFBP3'][0]] = cls['IGFBP3']\n",
    "print ('A', cls['IGFBP3'][0], len(cls2[cls['IGFBP3'][0]]), 1, 'KCTD5', 'CCDC88A' in cls2[cls['IGFBP3'][0]])\n"
   ]
  },
  {
   "cell_type": "code",
   "execution_count": 5,
   "metadata": {},
   "outputs": [
    {
     "name": "stdout",
     "output_type": "stream",
     "text": [
      "True\n",
      "True\n",
      "True\n",
      "True\n",
      "True\n",
      "True\n",
      "True\n",
      "True\n"
     ]
    }
   ],
   "source": [
    "\n",
    "# node1:CDX2,\n",
    "# node2: ERBB2 or MGAT4B, both are equivalent to each other\n",
    "print(\"ERBB2\" in cls2[\"MGAT4B\"])\n",
    "# node3: PRKAB1 or EPB41L4B, both are equivalent to each other\n",
    "print(\"PRKAB1\" in cls2[\"EPB41L4B\"])\n",
    "# node4: KCTD5 or CDH1;PRKAB1, both are equivalent to each other\n",
    "print(\"PRKAB1\" in cls2[\"KCTD5\"])\n",
    "print(\"CDH1\" in cls2[\"KCTD5\"])\n",
    "# node5: MUPCDH\n",
    "# node6: ABCC13 or UGT1A6,both are equivalent to each other\n",
    "print(\"UGT1A6\" in cls2[\"ABCC13\"])\n",
    "# node7: PPARA or PSPC1,both are equivalent to each other\n",
    "print(\"PPARA\" in cls2[\"PSPC1\"])\n",
    "# node8: CA1 or FUCA1,both are equivalent to each other\n",
    "print(\"CA1\" in cls2[\"FUCA1\"])\n",
    "# node9: LAYN or CCDC88A, both are equivalent to each other\n",
    "print(\"CCDC88A\" in cls2[\"LAYN\"])\n"
   ]
  },
  {
   "cell_type": "code",
   "execution_count": 6,
   "metadata": {},
   "outputs": [
    {
     "name": "stdout",
     "output_type": "stream",
     "text": [
      "node-1.txt\n",
      "1\n",
      "node-2.txt\n",
      "21\n",
      "node-3.txt\n",
      "21\n",
      "node-4.txt\n",
      "209\n",
      "node-5.txt\n",
      "3\n",
      "node-6.txt\n",
      "2\n",
      "node-7.txt\n",
      "431\n",
      "node-8.txt\n",
      "109\n",
      "node-9.txt\n",
      "363\n"
     ]
    }
   ],
   "source": [
    "l1 = [\"CDX2\", 'MGAT4B', 'EPB41L4B', 'KCTD5', 'MUPCDH', \"ABCC13\",'PSPC1', 'FUCA1', 'LAYN']\n",
    "def writeNodes(l1):\n",
    "    cls = bone.BIGraph.readClusters(\"/mnt/booleanfs2/sahoo/Data/Colon/BN/grants/crc-net-1-cls.txt\")\n",
    "    for k in range(len(l1)):\n",
    "        cfile = \"node-\" + str(k+1) + \".txt\"\n",
    "        print(cfile)\n",
    "        if k == 0:\n",
    "            s1 = [\"CDX2\"]\n",
    "        else:\n",
    "            s1 = hu.uniq(sum([cls[i][1] for i in cls2[l1[k]]], []))\n",
    "        print(len(s1))\n",
    "        ofp = open(cfile, \"w\")\n",
    "        for m in s1:\n",
    "            ofp.write(m + \"\\n\")\n",
    "        ofp.close()\n",
    "    return\n",
    "writeNodes(l1)"
   ]
  },
  {
   "cell_type": "code",
   "execution_count": 7,
   "metadata": {},
   "outputs": [
    {
     "name": "stdout",
     "output_type": "stream",
     "text": [
      "MGAT4B\n",
      "EPB41L4B\n",
      "KCTD5\n",
      "MUPCDH\n",
      "ABCC13\n",
      "PSPC1\n",
      "FUCA1\n",
      "SCNN1B\n",
      "LAYN\n",
      "----------\n",
      "MGAT4B\n",
      "EPB41L4B\n",
      "KCTD5\n",
      "MUPCDH\n",
      "ABCC13\n",
      "PSPC1\n",
      "FUCA1\n",
      "SCNN1B\n"
     ]
    }
   ],
   "source": [
    "for k in cls2:\n",
    "    print(k)\n",
    "print(\"----------\")\n",
    "for k in parent:\n",
    "    print(k)"
   ]
  },
  {
   "cell_type": "code",
   "execution_count": 8,
   "metadata": {
    "scrolled": true
   },
   "outputs": [
    {
     "name": "stdout",
     "output_type": "stream",
     "text": [
      "MGAT4B EPB41L4B KCTD5 MUPCDH ABCC13 PSPC1 FUCA1 SCNN1B LAYN ['ABCC13', 'UGT1A6']\n"
     ]
    },
    {
     "data": {
      "image/png": "[encoded data removed]",
      "text/plain": [
       "<Figure size 432x288 with 1 Axes>"
      ]
     },
     "metadata": {},
     "output_type": "display_data"
    }
   ],
   "source": [
    "\n",
    "import networkx as nx\n",
    "from networkx.drawing.nx_agraph import write_dot, graphviz_layout\n",
    "attr_edge = []\n",
    "vertices = [\"CDX2\"]\n",
    "for k in cls2:\n",
    "    vertices.append(k)\n",
    "    if k in parent.keys():\n",
    "        attr_edge.append([parent[k], k, {\"type\": 2}])\n",
    "G = nx.DiGraph()\n",
    "G.add_nodes_from(vertices)\n",
    "G.add_edges_from(attr_edge)\n",
    "pos = graphviz_layout(G, prog='dot')\n",
    "cm = {2: \"b\", 1: \"g\", 3: \"r\"}\n",
    "colors = [cm[G[u][v]['type']] for u,v in G.edges()]\n",
    "pos_higher = {}\n",
    "labels = {}\n",
    "for k, v in pos.items():\n",
    "    pos_higher[k] = (v[0], v[1]+20)\n",
    "for v in vertices:\n",
    "    if(v not in labels):\n",
    "        labels[v] = \"\"\n",
    "    if v in cls2:\n",
    "        labels[v] = v + \" (\" + str(len(cls2[v])) +\")\" \n",
    "    else:\n",
    "        labels[v] = v\n",
    "def ishold():\n",
    "    return False\n",
    "def hold(x):\n",
    "    return False\n",
    "def is_string_like(s):\n",
    "    return isinstance(s, str)\n",
    "def is_numlike(s):\n",
    "    import numbers\n",
    "    return isinstance(s, numbers.Number)\n",
    "plt.ishold = ishold\n",
    "plt.hold = hold\n",
    "matplotlib.cbook.is_string_like = is_string_like\n",
    "matplotlib.cbook.is_numlike = is_numlike\n",
    "\n",
    "nx.draw_networkx_labels(G, pos_higher, labels)\n",
    "nx.draw(G, pos, arrowsize=20, #arrowstyle=\"fancy\",\n",
    "        node_size=200, alpha=0.5, node_color=\"black\", edge_color=colors)\n",
    "\n",
    "print(\" \".join(cls2.keys()), cls2['ABCC13'] )"
   ]
  },
  {
   "cell_type": "code",
   "execution_count": 9,
   "metadata": {},
   "outputs": [
    {
     "name": "stdout",
     "output_type": "stream",
     "text": [
      "Qu 2016 Normal Adenoma Cancer (n = 58)\n",
      "GSE77953 http://hegemon.ucsd.edu/Tools/explore.php?key=polyps&id=PLP50\n",
      "58 [30, 28] GSE77953 http://hegemon.ucsd.edu/Tools/explore.php?key=polyps&id=PLP50 PLP50\n",
      "[1]\n",
      "[2]\n",
      "[2]\n",
      "[1]\n",
      "[4]\n",
      "[5]\n",
      "[1]\n",
      "[2]\n",
      "[1]\n",
      "[3]\n",
      "[3]\n",
      "[1]\n",
      "[1]\n",
      "[1]\n",
      "[3]\n",
      "[1]\n",
      "[2]\n",
      "[2]\n",
      "[3]\n",
      "[2]\n",
      "[0]\n",
      "[1]\n",
      "[1]\n",
      "[0]\n",
      "[1]\n",
      "[3]\n",
      "[2]\n",
      "[1]\n",
      "[6]\n",
      "[1]\n",
      "[1]\n",
      "[0]\n",
      "[1]\n",
      "[4]\n",
      "[2]\n",
      "[3]\n",
      "[0]\n",
      "[0]\n",
      "[4]\n",
      "[1]\n",
      "[6]\n",
      "[0]\n",
      "[1]\n"
     ]
    },
    {
     "data": {
      "image/png": "[encoded data removed]",
      "text/plain": [
       "<Figure size 216x720 with 1 Axes>"
      ]
     },
     "metadata": {},
     "output_type": "display_data"
    }
   ],
   "source": [
    "nodes = ['CDX2'] + cls2['EPB41L4B'] + cls2['MGAT4B']\n",
    "ana = CRCDiffAnalysis()\n",
    "ana.getQu2016(2)\n",
    "res = []\n",
    "for i in range(len(nodes)):\n",
    "    wt1, lt1 = [-1], [[nodes[i]]]\n",
    "    ana.orderData(lt1, wt1)\n",
    "    #print(\"index = \", i, nodes[i], ana.getROCAUC())\n",
    "    res += [[nodes[i], ana.getROCAUC()]]\n",
    "df = pd.DataFrame(res)\n",
    "df = df.sort_values(1, ascending=False)\n",
    "# print(list(df.sort_values(1, ascending=False)[0])[0:5])\n",
    "df.index = df[0]\n",
    "df = df[[1]]\n",
    "cfile = \"Figs1-F.pdf\"\n",
    "pdf = bone.getPDF(cfile)\n",
    "sns.set()\n",
    "sns.set_style(\"white\")\n",
    "sns.set_style({'xtick.color':'.5', 'ytick.color':'.5', 'axes.labelcolor': '.5'})\n",
    "sns.set_context(\"notebook\")\n",
    "sns.set_palette([bone.adj_light(c, 1.5, 1) for c in acolor])\n",
    "fig, ax = plt.subplots(nrows=1, ncols=1, figsize=(3,10))\n",
    "sns.barplot(ax=ax, data=df.T, orient='h', color='orange', ci=None, linewidth=.5)\n",
    "pdf.savefig(transparent=True, bbox_inches = 'tight')\n",
    "bone.closePDF(pdf)"
   ]
  },
  {
   "cell_type": "code",
   "execution_count": 10,
   "metadata": {},
   "outputs": [
    {
     "name": "stdout",
     "output_type": "stream",
     "text": [
      "Index(['PTPRF', 'GNA11', 'NDRG2', 'MYH14', 'PRKAB1'], dtype='object', name=0)\n"
     ]
    },
    {
     "data": {
      "text/html": [
       "<div>\n",
       "<style scoped>\n",
       "    .dataframe tbody tr th:only-of-type {\n",
       "        vertical-align: middle;\n",
       "    }\n",
       "\n",
       "    .dataframe tbody tr th {\n",
       "        vertical-align: top;\n",
       "    }\n",
       "\n",
       "    .dataframe thead th {\n",
       "        text-align: right;\n",
       "    }\n",
       "</style>\n",
       "<table border=\"1\" class=\"dataframe\">\n",
       "  <thead>\n",
       "    <tr style=\"text-align: right;\">\n",
       "      <th></th>\n",
       "      <th>1</th>\n",
       "    </tr>\n",
       "    <tr>\n",
       "      <th>0</th>\n",
       "      <th></th>\n",
       "    </tr>\n",
       "  </thead>\n",
       "  <tbody>\n",
       "    <tr>\n",
       "      <th>PTPRF</th>\n",
       "      <td>0.87</td>\n",
       "    </tr>\n",
       "    <tr>\n",
       "      <th>GNA11</th>\n",
       "      <td>0.87</td>\n",
       "    </tr>\n",
       "    <tr>\n",
       "      <th>NDRG2</th>\n",
       "      <td>0.85</td>\n",
       "    </tr>\n",
       "    <tr>\n",
       "      <th>MYH14</th>\n",
       "      <td>0.84</td>\n",
       "    </tr>\n",
       "    <tr>\n",
       "      <th>PRKAB1</th>\n",
       "      <td>0.79</td>\n",
       "    </tr>\n",
       "  </tbody>\n",
       "</table>\n",
       "</div>"
      ],
      "text/plain": [
       "           1\n",
       "0           \n",
       "PTPRF   0.87\n",
       "GNA11   0.87\n",
       "NDRG2   0.85\n",
       "MYH14   0.84\n",
       "PRKAB1  0.79"
      ]
     },
     "execution_count": 10,
     "metadata": {},
     "output_type": "execute_result"
    }
   ],
   "source": [
    "print(df.head(5).index)\n",
    "df.head(5)"
   ]
  },
  {
   "cell_type": "code",
   "execution_count": 11,
   "metadata": {},
   "outputs": [
    {
     "name": "stdout",
     "output_type": "stream",
     "text": [
      "Qu 2016 Normal Adenoma Cancer (n = 58)\n",
      "GSE77953 http://hegemon.ucsd.edu/Tools/explore.php?key=polyps&id=PLP50\n",
      "58 [30, 28] GSE77953 http://hegemon.ucsd.edu/Tools/explore.php?key=polyps&id=PLP50 PLP50\n",
      "[18]\n",
      "ROC-AUC 0.93\n",
      "[9.019780882029826, 45.658018596946874, 8.519780882029826, 9.519780882029826]\n",
      "0.920046934106826 9.939827816136653\n",
      "Global 2018 GPL570 Colon Purged (n = 1911)\n",
      "GEO CRC115 http://hegemon.ucsd.edu/Tools/explore.php?key=colon&id=CRC145\n",
      "1832 [170, 1662] GEO CRC115 http://hegemon.ucsd.edu/Tools/explore.php?key=colon&id=CRC145 CRC145\n",
      "[5]\n",
      "ROC-AUC 0.68\n",
      "[0.9772307028277453, 1065.1151681885608, 0.47723070282774527, 1.4772307028277454]\n",
      "0.48033803131534303 1.4575687341430883\n",
      "TCGA 2017 CRC mRNA (n = 698)\n",
      "TCGA http://hegemon.ucsd.edu/Tools/explore.php?key=colon&id=CRC80\n",
      "695 [51, 644] TCGA http://hegemon.ucsd.edu/Tools/explore.php?key=colon&id=CRC80 CRC80\n",
      "[5]\n",
      "ROC-AUC 0.90\n",
      "[1.057738670799412, 258.137843755836, 0.5577386707994121, 1.557738670799412]\n",
      "0.5518490678944117 1.6095877386938238\n",
      "Skrzypczak 2010 NoAdCa (n = 145)\n",
      "GSE20916 http://hegemon.ucsd.edu/Tools/explore.php?key=colon&id=CRC137.2\n",
      "70 [34, 36] GSE20916 http://hegemon.ucsd.edu/Tools/explore.php?key=colon&id=CRC137.2 CRC137.2\n",
      "[18]\n",
      "ROC-AUC 0.86\n",
      "[2.9793733790850907, 46.882174146970776, 2.4793733790850907, 3.4793733790850907]\n",
      "0.8864205898880656 3.8657939689731564\n",
      "Paredes 2020 crc (n = 48)\n",
      "GSE146009 http://hegemon.ucsd.edu/Tools/explore.php?key=colon&id=CRC148\n",
      "18 [9, 9] GSE146009 http://hegemon.ucsd.edu/Tools/explore.php?key=colon&id=CRC148 CRC148\n",
      "[5]\n",
      "ROC-AUC 0.94\n",
      "[-0.18764670506761205, 9.898047255801746, -0.687646705067612, 0.31235329493238795]\n",
      "0.3694070370611678 0.18176033199355573\n",
      "Sole 2014 crc (n = 246)\n",
      "GSE44076 http://hegemon.ucsd.edu/Tools/explore.php?key=colon&id=CRC149\n",
      "196 [98, 98] GSE44076 http://hegemon.ucsd.edu/Tools/explore.php?key=colon&id=CRC149 CRC149\n",
      "[14]\n",
      "ROC-AUC 0.91\n",
      "[3.869467458723359, 142.84191343000165, 3.369467458723359, 4.369467458723359]\n",
      "1.1431585347199626 5.012625993443322\n",
      "Chen 2016 crc GPL570 (n = 68)\n",
      "GSE62932 http://hegemon.ucsd.edu/Tools/explore.php?key=colon&id=CRC154\n",
      "68 [4, 64] GSE62932 http://hegemon.ucsd.edu/Tools/explore.php?key=colon&id=CRC154 CRC154\n",
      "[21]\n",
      "ROC-AUC 0.91\n",
      "[9.104292126809945, 35.58341977396215, 8.604292126809945, 9.604292126809945]\n",
      "1.4769989128629604 10.581291039672905\n"
     ]
    },
    {
     "data": {
      "image/png": "[encoded data removed]",
      "text/plain": [
       "<Figure size 500x500 with 14 Axes>"
      ]
     },
     "metadata": {},
     "output_type": "display_data"
    }
   ],
   "source": [
    "cfile = \"Figs1-G.pdf\"\n",
    "pdf = bone.getPDF(cfile)\n",
    "fig,axlist = plt.subplots(ncols=1, nrows=7, figsize=(5,5), dpi=100)\n",
    "wt1, l1 = [-1], [['PTPRF', 'GNA11', 'NDRG2', 'MYH14', 'PRKAB1']]\n",
    "ana = CRCDiffAnalysis()\n",
    "ana.getQu2016(2)\n",
    "def plotBar(ana, axlist, l1, wt1, n1):\n",
    "    name=ana.h.getSource()\n",
    "    if n1==1:\n",
    "        name='PMID:26789870'\n",
    "        \n",
    "    c_dict, fpr, tpr, roc_auc = bone.processGeneGroups(ana, l1, wt1, fthr=\"thr2\")\n",
    "    params = {'spaceAnn': 10, 'tAnn': 2, 'widthAnn':2, 'acolor': acolor,\n",
    "              'w': 5, 'h': 0.8, 'atypes': ana.atypes ,'cval': ana.cval, 'ax': axlist[n1]}\n",
    "    ax = ana.printTitleBar(params)\n",
    "    res = \"%.2f\" % roc_auc\n",
    "    ax.text(len(ana.cval[0]), 4, res)\n",
    "    ax.text(-1, 2, name, horizontalalignment='right',\n",
    "            verticalalignment='center')\n",
    "    return\n",
    "plotBar(ana, axlist, l1, wt1, 0)\n",
    "ana.getColonGEOPurged(2)\n",
    "plotBar(ana, axlist, l1, wt1, 1)\n",
    "ana.getTCGACRC(2)\n",
    "plotBar(ana, axlist, l1, wt1, 2)\n",
    "ana.getSkrzypczak2010(2) # use the latest version.\n",
    "plotBar(ana, axlist, l1, wt1, 3)\n",
    "ana.getParedes2020CRC(2, 0)\n",
    "plotBar(ana, axlist, l1, wt1, 4)\n",
    "ana.getSole2014(2)\n",
    "plotBar(ana, axlist, l1, wt1, 5)\n",
    "ana.getChen2016(2)\n",
    "plotBar(ana, axlist, l1, wt1, 6)\n",
    "pdf.savefig(transparent=True, bbox_inches = 'tight')\n",
    "bone.closePDF(pdf)"
   ]
  },
  {
   "cell_type": "code",
   "execution_count": 12,
   "metadata": {},
   "outputs": [],
   "source": [
    "#multivariate analyses"
   ]
  },
  {
   "cell_type": "code",
   "execution_count": 13,
   "metadata": {},
   "outputs": [
    {
     "name": "stdout",
     "output_type": "stream",
     "text": [
      "Marisa 2013 Colon Cancer (n = 585)\n",
      "GSE39582 http://hegemon.ucsd.edu/Tools/explore.php?key=colon&id=CRC54\n",
      "574 [395, 179] GSE39582 http://hegemon.ucsd.edu/Tools/explore.php?key=colon&id=CRC54 CRC54\n",
      "      exp(coef)  exp(-coef)  lower .95  upper .95     coef  se(coef)  \\\n",
      "CDX2   0.784852    1.274126    0.64403   0.956465 -0.24226  0.100894   \n",
      "\n",
      "             z         p codes  \n",
      "CDX2 -2.401126  0.016345     *  \n"
     ]
    },
    {
     "data": {
      "image/png": "[encoded data removed]",
      "text/plain": [
       "<Figure size 200x200 with 1 Axes>"
      ]
     },
     "metadata": {
      "needs_background": "light"
     },
     "output_type": "display_data"
    },
    {
     "data": {
      "image/png": "[encoded data removed]",
      "text/plain": [
       "<Figure size 200x200 with 1 Axes>"
      ]
     },
     "metadata": {
      "needs_background": "light"
     },
     "output_type": "display_data"
    },
    {
     "data": {
      "image/png": "[encoded data removed]",
      "text/plain": [
       "<Figure size 200x200 with 1 Axes>"
      ]
     },
     "metadata": {
      "needs_background": "light"
     },
     "output_type": "display_data"
    },
    {
     "data": {
      "image/png": "[encoded data removed]",
      "text/plain": [
       "<Figure size 200x200 with 1 Axes>"
      ]
     },
     "metadata": {
      "needs_background": "light"
     },
     "output_type": "display_data"
    },
    {
     "data": {
      "image/png": "[encoded data removed]",
      "text/plain": [
       "<Figure size 200x50 with 1 Axes>"
      ]
     },
     "metadata": {
      "needs_background": "light"
     },
     "output_type": "display_data"
    },
    {
     "data": {
      "image/png": "[encoded data removed]",
      "text/plain": [
       "<Figure size 200x50 with 1 Axes>"
      ]
     },
     "metadata": {
      "needs_background": "light"
     },
     "output_type": "display_data"
    }
   ],
   "source": [
    "wt1, l1 = [-1], [['CDX2']]\n",
    "ana = CRCDiffAnalysis()\n",
    "#ana.getJSTOM()\n",
    "ana.getSurvival('CRC54')\n",
    "#res = plotSurvival(ana, wt1, l1, fthr1=None, desc=None)\n",
    "time = ana.h.getSurvName('time')\n",
    "status = ana.h.getSurvName('status')\n",
    "df = pd.DataFrame()\n",
    "ahash = {1:None, 'time':None, '':None}\n",
    "df['time'] = [None if k in ahash else k for k in time]\n",
    "df['status'] = [None if k in ahash else k for k in status]\n",
    "atype = ana.h.getSurvName('c Sex')\n",
    "ahash = {'Female':0, 'Male':1}\n",
    "df['gender'] = [ahash[k] if k in ahash else None for k in atype]\n",
    "atype = ana.h.getSurvName('c age.at.diagnosis (year)')\n",
    "ahash = {'':None, 'c age.at.diagnosis (year)':None, 'N/A':None}\n",
    "df['age'] = [ahash[k] if k in ahash else float(k) for k in atype]\n",
    "atype = ana.h.getSurvName('c tnm.stage')\n",
    "ahash = {'':None, 'c tnm.stage':None, 'N/A':None}\n",
    "df['stage'] = [ahash[k] if k in ahash else int(k) for k in atype]\n",
    "atype = ana.h.getSurvName('c kras.mutation')\n",
    "ahash = {atype[0]:None, atype[1]:None, '':None, 'N/A':None, 'M':1, 'WT':0}\n",
    "df['kras'] = [ahash[k] if k in ahash else int(k) for k in atype]\n",
    "id1 = list(ana.h.getIDs(\"CDX2\").keys())[0]\n",
    "expr = ana.h.getExprData(id1)\n",
    "ahash = {expr[0]:None, expr[1]:None}\n",
    "df['CDX2'] = [ahash[k] if k in ahash else float(k) for k in expr]\n",
    "thrx = ana.h.getThrData(id1)\n",
    "low = ana.h.getArraysAll(id1, thrx[2], \"lo\")\n",
    "high = ana.h.getArraysAll(id1, thrx[2], \"hi\")\n",
    "pG = [ [\"Low\" , \"red\", low], [\"High\", \"green\", high]]\n",
    "# ax = hu.survival(time, status, pG)\n",
    "names = ['stage', 'age', 'gender', 'CDX2', 'time', 'status']\n",
    "df1 = df[df['kras'] == 0][names]\n",
    "df1.dropna(inplace=True)\n",
    "dfu, dfm = hu.Multivariate(df1)\n",
    "ax = hu.plotCoef(dfu)\n",
    "ax = hu.plotCoef(dfm)\n",
    "df1 = df[df['kras'] == 1][names]\n",
    "df1.dropna(inplace=True)\n",
    "dfu, dfm = hu.Multivariate(df1)\n",
    "ax = hu.plotCoef(dfu)\n",
    "ax = hu.plotCoef(dfm)\n",
    "\n",
    "\n",
    "names = [ 'CDX2', 'time', 'status']\n",
    "\n",
    "df1 = df[df['kras'] == 0][names]\n",
    "df1.dropna(inplace=True)\n",
    "dfu, dfm = hu.Multivariate(df1)\n",
    "print(dfu)\n",
    "ax = hu.plotCoef(dfu,\"Univariate for KRAS WT\")\n",
    "\n",
    "df1 = df[df['kras'] == 1][names]\n",
    "df1.dropna(inplace=True)\n",
    "dfu, dfm = hu.Multivariate(df1)\n",
    "ax = hu.plotCoef(dfu,\"Univariate for KRAS MT\")\n"
   ]
  }
 ],
 "metadata": {
  "kernelspec": {
   "display_name": "Python 3",
   "language": "python",
   "name": "python3"
  },
  "language_info": {
   "codemirror_mode": {
    "name": "ipython",
    "version": 3
   },
   "file_extension": ".py",
   "mimetype": "text/x-python",
   "name": "python",
   "nbconvert_exporter": "python",
   "pygments_lexer": "ipython3",
   "version": "3.6.9"
  }
 },
 "nbformat": 4,
 "nbformat_minor": 2
}
